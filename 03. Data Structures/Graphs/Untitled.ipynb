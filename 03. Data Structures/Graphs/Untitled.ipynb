{
 "cells": [
  {
   "cell_type": "code",
   "execution_count": 1,
   "id": "95abcc71",
   "metadata": {},
   "outputs": [
    {
     "name": "stderr",
     "output_type": "stream",
     "text": [
      "Cloning into 'Exp%207d%20leap_year.txt'...\n",
      "fatal: repository 'https://github.com/Sashi2002/cd/blob/main/Exp%207d%20leap_year.txt/' not found\n"
     ]
    }
   ],
   "source": [
    "! git clone https://github.com/Sashi2002/cd/blob/main/Exp%207d%20leap_year.txt\n",
    "    "
   ]
  },
  {
   "cell_type": "code",
   "execution_count": 2,
   "id": "8a158355",
   "metadata": {},
   "outputs": [
    {
     "name": "stderr",
     "output_type": "stream",
     "text": [
      "Cloning into 'aicselabexam'...\n",
      "warning: redirecting to https://github.com/shushrutsharma/18CSC305J-AI/\n"
     ]
    }
   ],
   "source": [
    "! git clone https://tinyurl.com/aicselabexam"
   ]
  },
  {
   "cell_type": "code",
   "execution_count": 3,
   "id": "3290a2ad",
   "metadata": {},
   "outputs": [
    {
     "name": "stderr",
     "output_type": "stream",
     "text": [
      "Cloning into '18CSC305J-AI'...\n"
     ]
    }
   ],
   "source": [
    "! git clone https://github.com/shushrutsharma/18CSC305J-AI/"
   ]
  },
  {
   "cell_type": "code",
   "execution_count": null,
   "id": "3be17b71",
   "metadata": {},
   "outputs": [],
   "source": []
  }
 ],
 "metadata": {
  "kernelspec": {
   "display_name": "Python 3 (ipykernel)",
   "language": "python",
   "name": "python3"
  },
  "language_info": {
   "codemirror_mode": {
    "name": "ipython",
    "version": 3
   },
   "file_extension": ".py",
   "mimetype": "text/x-python",
   "name": "python",
   "nbconvert_exporter": "python",
   "pygments_lexer": "ipython3",
   "version": "3.9.7"
  }
 },
 "nbformat": 4,
 "nbformat_minor": 5
}
